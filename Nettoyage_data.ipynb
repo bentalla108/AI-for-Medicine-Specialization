{
  "nbformat": 4,
  "nbformat_minor": 0,
  "metadata": {
    "colab": {
      "name": "Nettoyage_data.ipynb",
      "provenance": [],
      "authorship_tag": "ABX9TyMXx0kQrWecroemJNh/4lZI",
      "include_colab_link": true
    },
    "kernelspec": {
      "name": "python3",
      "display_name": "Python 3"
    },
    "language_info": {
      "name": "python"
    }
  },
  "cells": [
    {
      "cell_type": "markdown",
      "metadata": {
        "id": "view-in-github",
        "colab_type": "text"
      },
      "source": [
        "<a href=\"https://colab.research.google.com/github/bentalla108/AI-for-Medicine-Specialization/blob/master/Nettoyage_data.ipynb\" target=\"_parent\"><img src=\"https://colab.research.google.com/assets/colab-badge.svg\" alt=\"Open In Colab\"/></a>"
      ]
    },
    {
      "cell_type": "code",
      "execution_count": 143,
      "metadata": {
        "id": "4ZH8md0qQ347"
      },
      "outputs": [],
      "source": [
        "import pandas as pd\n",
        "import os\n",
        "import numpy as np\n",
        "import pickle\n",
        "import seaborn as sns\n",
        "import matplotlib.pyplot as plt\n",
        "import glob\n",
        "import json\n",
        "import ast\n"
      ]
    },
    {
      "cell_type": "code",
      "source": [
        "file_ ='/content/o_r_file/odds_1276147_.csv'"
      ],
      "metadata": {
        "id": "ImHUzeZaSyvO"
      },
      "execution_count": 3,
      "outputs": []
    },
    {
      "cell_type": "code",
      "source": [
        "df= pd.read_csv(file_)"
      ],
      "metadata": {
        "id": "20EU4YE8Syx7"
      },
      "execution_count": 4,
      "outputs": []
    },
    {
      "cell_type": "code",
      "source": [
        "df.drop('tournament_id',axis=1 , inplace =True)"
      ],
      "metadata": {
        "id": "P8aLviD1Sy0e"
      },
      "execution_count": 5,
      "outputs": []
    },
    {
      "cell_type": "code",
      "source": [
        "df"
      ],
      "metadata": {
        "id": "PoAt0IWk6WgG"
      },
      "execution_count": null,
      "outputs": []
    },
    {
      "cell_type": "code",
      "source": [
        "xx_data=df.loc[0]\n",
        "xx_data\n",
        "a=xx_data['teams']\n",
        "b=xx_data['id']\n",
        "c=xx_data['market']\n",
        "\n",
        "\n",
        "\n",
        "df.teams\n",
        "dictionary = ast.literal_eval(a)\n",
        "dictionary\n",
        "\n",
        "matchID = b\n",
        "home_team = dictionary['home']\n",
        "away_team = dictionary['away']\n",
        "home_teamID = dictionary['home']['id']\n",
        "away_teamID = dictionary['away']['id']\n"
      ],
      "metadata": {
        "id": "WnWgUBlVSzLY"
      },
      "execution_count": 162,
      "outputs": []
    },
    {
      "cell_type": "code",
      "source": [
        "markets = ast.literal_eval(c)\n",
        "pd.DataFrame(markets)"
      ],
      "metadata": {
        "id": "OzYR3CGtDe1Q"
      },
      "execution_count": null,
      "outputs": []
    },
    {
      "cell_type": "code",
      "source": [
        "for market in range(len(markets)):\n",
        "  #for market in range (len(markets)):\n",
        "  try :\n",
        "    specifiers= markets[market]['specifiers']\n",
        "  except:\n",
        "     specifiers = markets[market]['name']\n",
        "  name_spec = markets[market]['name']\n",
        "  specifiersID =markets[market]['id']\n",
        "  outcome=markets[market]['outcome']\n",
        "  print(name_spec)\n",
        "\n",
        "  z=pd.DataFrame(outcome)\n",
        "  print(z)\n"
      ],
      "metadata": {
        "id": "c39DVoW58BUj"
      },
      "execution_count": null,
      "outputs": []
    },
    {
      "cell_type": "code",
      "source": [
        ""
      ],
      "metadata": {
        "id": "ez0DO2Ob809j"
      },
      "execution_count": null,
      "outputs": []
    },
    {
      "cell_type": "code",
      "source": [
        ""
      ],
      "metadata": {
        "id": "ypWV_bC1AJeJ"
      },
      "execution_count": null,
      "outputs": []
    }
  ]
}